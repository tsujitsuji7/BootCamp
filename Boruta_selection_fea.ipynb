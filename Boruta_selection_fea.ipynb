{
 "cells": [
  {
   "cell_type": "code",
   "execution_count": 4,
   "id": "e2aadd63-ffa8-4b5e-bdb0-eabecc234ff3",
   "metadata": {},
   "outputs": [
    {
     "name": "stdout",
     "output_type": "stream",
     "text": [
      "Selected important features:\n",
      "['bmi', 'bp', 's2', 's5', 's6']\n",
      "\n",
      "Feature selection results:\n",
      "  Feature  Selected\n",
      "0     age     False\n",
      "1     sex     False\n",
      "2     bmi      True\n",
      "3      bp      True\n",
      "4      s1     False\n",
      "5      s2      True\n",
      "6      s3     False\n",
      "7      s4     False\n",
      "8      s5      True\n",
      "9      s6      True\n"
     ]
    }
   ],
   "source": [
    "# BorutaPyのインストール\n",
    "# pip install boruta_py\n",
    "\n",
    "from boruta import BorutaPy\n",
    "from sklearn.ensemble import RandomForestRegressor\n",
    "from sklearn.datasets import load_diabetes\n",
    "from sklearn.model_selection import train_test_split\n",
    "import pandas as pd\n",
    "\n",
    "# データの読み込みと分割\n",
    "data = load_diabetes()\n",
    "X, y = data.data, data.target\n",
    "X_train, X_test, y_train, y_test = train_test_split(X, y, test_size=0.2, random_state=42)\n",
    "\n",
    "# ランダムフォレストのモデルを作成 (Borutaで使用)\n",
    "rf = RandomForestRegressor(n_estimators=100, random_state=42)\n",
    "\n",
    "# Borutaの実行 (重要な特徴量の選択)\n",
    "boruta_selector = BorutaPy(rf, n_estimators='auto', random_state=42)\n",
    "boruta_selector.fit(X_train, y_train)\n",
    "\n",
    "# 選択された特徴量の結果を表示\n",
    "selected_features = boruta_selector.support_\n",
    "all_features = data.feature_names\n",
    "selected_feature_names = [feature for feature, selected in zip(all_features, selected_features) if selected]\n",
    "\n",
    "print(\"Selected important features:\")\n",
    "print(selected_feature_names)\n",
    "\n",
    "# 全ての特徴量と選択結果をDataFrameで表示\n",
    "feature_selection_results = pd.DataFrame({\n",
    "    'Feature': all_features,\n",
    "    'Selected': selected_features\n",
    "})\n",
    "\n",
    "print(\"\\nFeature selection results:\")\n",
    "print(feature_selection_results)\n"
   ]
  },
  {
   "cell_type": "code",
   "execution_count": null,
   "id": "d93d48b1-6719-4627-bc1e-5926274a2048",
   "metadata": {},
   "outputs": [],
   "source": []
  }
 ],
 "metadata": {
  "kernelspec": {
   "display_name": "Python 3 (ipykernel)",
   "language": "python",
   "name": "python3"
  },
  "language_info": {
   "codemirror_mode": {
    "name": "ipython",
    "version": 3
   },
   "file_extension": ".py",
   "mimetype": "text/x-python",
   "name": "python",
   "nbconvert_exporter": "python",
   "pygments_lexer": "ipython3",
   "version": "3.12.3"
  }
 },
 "nbformat": 4,
 "nbformat_minor": 5
}
