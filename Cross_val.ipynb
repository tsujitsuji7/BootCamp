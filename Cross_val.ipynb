{
 "cells": [
  {
   "cell_type": "code",
   "execution_count": 4,
   "id": "40b4004d-8423-40a1-939b-9ce4ad0a6b43",
   "metadata": {},
   "outputs": [
    {
     "name": "stdout",
     "output_type": "stream",
     "text": [
      "Linear Regression: 平均決定係数 (R^2) = 0.553\n",
      "Decision Tree: 平均決定係数 (R^2) = 0.344\n",
      "Random Forest: 平均決定係数 (R^2) = 0.653\n",
      "Support Vector Regressor: 平均決定係数 (R^2) = -0.110\n"
     ]
    }
   ],
   "source": [
    "from sklearn.model_selection import cross_val_score\n",
    "from sklearn.metrics import make_scorer, r2_score\n",
    "from sklearn.linear_model import LinearRegression\n",
    "from sklearn.tree import DecisionTreeRegressor\n",
    "from sklearn.ensemble import RandomForestRegressor\n",
    "from sklearn.datasets import fetch_california_housing  # 代替データセット\n",
    "import numpy as np\n",
    "\n",
    "# データセットの読み込み\n",
    "data = fetch_california_housing()\n",
    "X, y = data.data, data.target\n",
    "\n",
    "# 使用するモデルのリスト\n",
    "models = {\n",
    "    \"Linear Regression\": LinearRegression(),\n",
    "    \"Decision Tree\": DecisionTreeRegressor(),\n",
    "    \"Random Forest\": RandomForestRegressor(n_jobs=10),\n",
    "}\n",
    "\n",
    "# R^2スコアの計算\n",
    "r2_scorer = make_scorer(r2_score)\n",
    "\n",
    "# 各モデルごとに10分割交差検証でR^2スコアを計算\n",
    "for model_name, model in models.items():\n",
    "    scores = cross_val_score(model, X, y, cv=5, scoring=r2_scorer)\n",
    "    print(f\"{model_name}: 平均決定係数 (R^2) = {np.mean(scores):.3f}\")\n"
   ]
  },
  {
   "cell_type": "code",
   "execution_count": null,
   "id": "d5f59d0c-bbfd-4317-9355-fbd0b4435e86",
   "metadata": {},
   "outputs": [],
   "source": []
  }
 ],
 "metadata": {
  "kernelspec": {
   "display_name": "Python 3 (ipykernel)",
   "language": "python",
   "name": "python3"
  },
  "language_info": {
   "codemirror_mode": {
    "name": "ipython",
    "version": 3
   },
   "file_extension": ".py",
   "mimetype": "text/x-python",
   "name": "python",
   "nbconvert_exporter": "python",
   "pygments_lexer": "ipython3",
   "version": "3.12.3"
  }
 },
 "nbformat": 4,
 "nbformat_minor": 5
}
